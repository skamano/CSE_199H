{
 "cells": [
  {
   "cell_type": "code",
   "execution_count": 47,
   "metadata": {},
   "outputs": [],
   "source": [
    "import pandas as pd\n",
    "import numpy as np\n",
    "import matplotlib.pyplot as plt\n",
    "from mpl_toolkits.mplot3d import Axes3D"
   ]
  },
  {
   "cell_type": "markdown",
   "metadata": {},
   "source": [
    "# Feature Analysis\n",
    "Since accelerometer values are clustered together tightly, it is difficult to get a decision boundary with which we can reliably assign accurate labels to our IMU measurements. To work around this, we'll try and calculate the velocity of the board and visualize our calculations to see if the data can be easily distinguished into multiple classes."
   ]
  },
  {
   "cell_type": "code",
   "execution_count": 160,
   "metadata": {},
   "outputs": [],
   "source": [
    "simple_multi_dataset = pd.read_csv('simple_multi_dataset.csv')"
   ]
  },
  {
   "cell_type": "code",
   "execution_count": 201,
   "metadata": {},
   "outputs": [
    {
     "data": {
      "text/html": [
       "<div>\n",
       "<style scoped>\n",
       "    .dataframe tbody tr th:only-of-type {\n",
       "        vertical-align: middle;\n",
       "    }\n",
       "\n",
       "    .dataframe tbody tr th {\n",
       "        vertical-align: top;\n",
       "    }\n",
       "\n",
       "    .dataframe thead th {\n",
       "        text-align: right;\n",
       "    }\n",
       "</style>\n",
       "<table border=\"1\" class=\"dataframe\">\n",
       "  <thead>\n",
       "    <tr style=\"text-align: right;\">\n",
       "      <th></th>\n",
       "      <th>ride_id</th>\n",
       "      <th>UTC</th>\n",
       "      <th>IMU A1</th>\n",
       "      <th>IMU A2</th>\n",
       "      <th>IMU A3</th>\n",
       "      <th>IMU G1</th>\n",
       "      <th>IMU G2</th>\n",
       "      <th>IMU G3</th>\n",
       "      <th>IMU M1</th>\n",
       "      <th>IMU M2</th>\n",
       "      <th>IMU M3</th>\n",
       "      <th>simple_label</th>\n",
       "    </tr>\n",
       "  </thead>\n",
       "  <tbody>\n",
       "    <tr>\n",
       "      <th>0</th>\n",
       "      <td>15692</td>\n",
       "      <td>2018-11-09 19:17:41.238</td>\n",
       "      <td>0.344538</td>\n",
       "      <td>11.637728</td>\n",
       "      <td>2.775445</td>\n",
       "      <td>-2.195122</td>\n",
       "      <td>-5.000000</td>\n",
       "      <td>8.414634</td>\n",
       "      <td>-37.0</td>\n",
       "      <td>-165.0</td>\n",
       "      <td>197.0</td>\n",
       "      <td>PADDLING</td>\n",
       "    </tr>\n",
       "    <tr>\n",
       "      <th>1</th>\n",
       "      <td>15692</td>\n",
       "      <td>2018-11-09 19:17:41.502</td>\n",
       "      <td>-1.894959</td>\n",
       "      <td>10.087307</td>\n",
       "      <td>0.861345</td>\n",
       "      <td>16.585366</td>\n",
       "      <td>-4.146341</td>\n",
       "      <td>7.560976</td>\n",
       "      <td>-45.0</td>\n",
       "      <td>-163.0</td>\n",
       "      <td>201.0</td>\n",
       "      <td>PADDLING</td>\n",
       "    </tr>\n",
       "    <tr>\n",
       "      <th>2</th>\n",
       "      <td>15692</td>\n",
       "      <td>2018-11-09 19:17:41.733</td>\n",
       "      <td>-1.435575</td>\n",
       "      <td>10.699819</td>\n",
       "      <td>1.607844</td>\n",
       "      <td>1.829268</td>\n",
       "      <td>-6.219512</td>\n",
       "      <td>-4.390244</td>\n",
       "      <td>-42.0</td>\n",
       "      <td>-158.0</td>\n",
       "      <td>216.0</td>\n",
       "      <td>PADDLING</td>\n",
       "    </tr>\n",
       "    <tr>\n",
       "      <th>3</th>\n",
       "      <td>15692</td>\n",
       "      <td>2018-11-09 19:17:41.997</td>\n",
       "      <td>4.402430</td>\n",
       "      <td>8.288053</td>\n",
       "      <td>1.952382</td>\n",
       "      <td>-7.317073</td>\n",
       "      <td>-6.097561</td>\n",
       "      <td>3.292683</td>\n",
       "      <td>-41.0</td>\n",
       "      <td>-165.0</td>\n",
       "      <td>195.0</td>\n",
       "      <td>PADDLING</td>\n",
       "    </tr>\n",
       "    <tr>\n",
       "      <th>4</th>\n",
       "      <td>15692</td>\n",
       "      <td>2018-11-09 19:17:42.228</td>\n",
       "      <td>-1.856677</td>\n",
       "      <td>11.465459</td>\n",
       "      <td>2.392625</td>\n",
       "      <td>3.902439</td>\n",
       "      <td>-8.170732</td>\n",
       "      <td>20.121951</td>\n",
       "      <td>-46.0</td>\n",
       "      <td>-166.0</td>\n",
       "      <td>186.0</td>\n",
       "      <td>PADDLING</td>\n",
       "    </tr>\n",
       "    <tr>\n",
       "      <th>5</th>\n",
       "      <td>15692</td>\n",
       "      <td>2018-11-09 19:17:42.492</td>\n",
       "      <td>14.987403</td>\n",
       "      <td>21.839881</td>\n",
       "      <td>10.259576</td>\n",
       "      <td>-32.439024</td>\n",
       "      <td>0.121951</td>\n",
       "      <td>2.195122</td>\n",
       "      <td>-47.0</td>\n",
       "      <td>-165.0</td>\n",
       "      <td>175.0</td>\n",
       "      <td>PADDLING</td>\n",
       "    </tr>\n",
       "    <tr>\n",
       "      <th>6</th>\n",
       "      <td>15692</td>\n",
       "      <td>2018-11-09 19:17:42.756</td>\n",
       "      <td>-0.229692</td>\n",
       "      <td>8.307194</td>\n",
       "      <td>0.363679</td>\n",
       "      <td>57.073171</td>\n",
       "      <td>22.682927</td>\n",
       "      <td>-15.487805</td>\n",
       "      <td>-48.0</td>\n",
       "      <td>-180.0</td>\n",
       "      <td>150.0</td>\n",
       "      <td>PADDLING</td>\n",
       "    </tr>\n",
       "    <tr>\n",
       "      <th>7</th>\n",
       "      <td>15692</td>\n",
       "      <td>2018-11-09 19:17:42.987</td>\n",
       "      <td>-2.450048</td>\n",
       "      <td>12.652201</td>\n",
       "      <td>-1.186742</td>\n",
       "      <td>28.414634</td>\n",
       "      <td>-17.317073</td>\n",
       "      <td>5.853659</td>\n",
       "      <td>-50.0</td>\n",
       "      <td>-160.0</td>\n",
       "      <td>210.0</td>\n",
       "      <td>PADDLING</td>\n",
       "    </tr>\n",
       "    <tr>\n",
       "      <th>8</th>\n",
       "      <td>15692</td>\n",
       "      <td>2018-11-09 19:17:43.251</td>\n",
       "      <td>-2.048087</td>\n",
       "      <td>8.364617</td>\n",
       "      <td>3.273111</td>\n",
       "      <td>-0.365854</td>\n",
       "      <td>5.975610</td>\n",
       "      <td>10.853659</td>\n",
       "      <td>-50.0</td>\n",
       "      <td>-166.0</td>\n",
       "      <td>206.0</td>\n",
       "      <td>PADDLING</td>\n",
       "    </tr>\n",
       "    <tr>\n",
       "      <th>9</th>\n",
       "      <td>15692</td>\n",
       "      <td>2018-11-09 19:17:43.482</td>\n",
       "      <td>0.478525</td>\n",
       "      <td>10.604114</td>\n",
       "      <td>0.727358</td>\n",
       "      <td>-12.804878</td>\n",
       "      <td>-0.365854</td>\n",
       "      <td>4.756098</td>\n",
       "      <td>-56.0</td>\n",
       "      <td>-174.0</td>\n",
       "      <td>194.0</td>\n",
       "      <td>PADDLING</td>\n",
       "    </tr>\n",
       "  </tbody>\n",
       "</table>\n",
       "</div>"
      ],
      "text/plain": [
       "   ride_id                      UTC     IMU A1     IMU A2     IMU A3  \\\n",
       "0    15692  2018-11-09 19:17:41.238   0.344538  11.637728   2.775445   \n",
       "1    15692  2018-11-09 19:17:41.502  -1.894959  10.087307   0.861345   \n",
       "2    15692  2018-11-09 19:17:41.733  -1.435575  10.699819   1.607844   \n",
       "3    15692  2018-11-09 19:17:41.997   4.402430   8.288053   1.952382   \n",
       "4    15692  2018-11-09 19:17:42.228  -1.856677  11.465459   2.392625   \n",
       "5    15692  2018-11-09 19:17:42.492  14.987403  21.839881  10.259576   \n",
       "6    15692  2018-11-09 19:17:42.756  -0.229692   8.307194   0.363679   \n",
       "7    15692  2018-11-09 19:17:42.987  -2.450048  12.652201  -1.186742   \n",
       "8    15692  2018-11-09 19:17:43.251  -2.048087   8.364617   3.273111   \n",
       "9    15692  2018-11-09 19:17:43.482   0.478525  10.604114   0.727358   \n",
       "\n",
       "      IMU G1     IMU G2     IMU G3  IMU M1  IMU M2  IMU M3 simple_label  \n",
       "0  -2.195122  -5.000000   8.414634   -37.0  -165.0   197.0     PADDLING  \n",
       "1  16.585366  -4.146341   7.560976   -45.0  -163.0   201.0     PADDLING  \n",
       "2   1.829268  -6.219512  -4.390244   -42.0  -158.0   216.0     PADDLING  \n",
       "3  -7.317073  -6.097561   3.292683   -41.0  -165.0   195.0     PADDLING  \n",
       "4   3.902439  -8.170732  20.121951   -46.0  -166.0   186.0     PADDLING  \n",
       "5 -32.439024   0.121951   2.195122   -47.0  -165.0   175.0     PADDLING  \n",
       "6  57.073171  22.682927 -15.487805   -48.0  -180.0   150.0     PADDLING  \n",
       "7  28.414634 -17.317073   5.853659   -50.0  -160.0   210.0     PADDLING  \n",
       "8  -0.365854   5.975610  10.853659   -50.0  -166.0   206.0     PADDLING  \n",
       "9 -12.804878  -0.365854   4.756098   -56.0  -174.0   194.0     PADDLING  "
      ]
     },
     "execution_count": 201,
     "metadata": {},
     "output_type": "execute_result"
    }
   ],
   "source": [
    "simple_multi_dataset.head(10)"
   ]
  },
  {
   "cell_type": "markdown",
   "metadata": {},
   "source": [
    "## Visualizing IMU Acceleration Data"
   ]
  },
  {
   "cell_type": "code",
   "execution_count": 80,
   "metadata": {},
   "outputs": [
    {
     "name": "stderr",
     "output_type": "stream",
     "text": [
      "/Users/seankamano/anaconda3/lib/python3.6/site-packages/matplotlib/figure.py:459: UserWarning: matplotlib is currently using a non-GUI backend, so cannot show the figure\n",
      "  \"matplotlib is currently using a non-GUI backend, \"\n"
     ]
    },
    {
     "data": {
      "image/png": "[encoded data removed]",
      "text/plain": [
       "<Figure size 432x288 with 1 Axes>"
      ]
     },
     "metadata": {},
     "output_type": "display_data"
    }
   ],
   "source": [
    "a1,a2,a3 = np.array(simple_multi_dataset['IMU A1']),np.array(simple_multi_dataset['IMU A2']),np.array(simple_multi_dataset['IMU A3']),\n",
    "a2 = a2-9.81;\n",
    "\n",
    "df = simple_multi_dataset.loc[(simple_multi_dataset['simple_label']=='PADDLING')]\n",
    "a1_paddling = np.array(df['IMU A1'])\n",
    "df = simple_multi_dataset.loc[(simple_multi_dataset['simple_label']=='SURFING')]\n",
    "a1_surfing = np.array(df['IMU A1'])\n",
    "df = simple_multi_dataset.loc[(simple_multi_dataset['simple_label']=='FLOATING')]\n",
    "a1_floating = np.array(df['IMU A1'])\n",
    "\n",
    "df = simple_multi_dataset.loc[(simple_multi_dataset['simple_label']=='PADDLING')]\n",
    "a2_paddling = np.array(df['IMU A2'])\n",
    "df = simple_multi_dataset.loc[(simple_multi_dataset['simple_label']=='SURFING')]\n",
    "a2_surfing = np.array(df['IMU A2'])\n",
    "df = simple_multi_dataset.loc[(simple_multi_dataset['simple_label']=='FLOATING')]\n",
    "a2_floating = np.array(df['IMU A2'])\n",
    "\n",
    "df = simple_multi_dataset.loc[(simple_multi_dataset['simple_label']=='PADDLING')]\n",
    "a3_paddling = np.array(df['IMU A3'])\n",
    "df = simple_multi_dataset.loc[(simple_multi_dataset['simple_label']=='SURFING')]\n",
    "a3_surfing = np.array(df['IMU A3'])\n",
    "df = simple_multi_dataset.loc[(simple_multi_dataset['simple_label']=='FLOATING')]\n",
    "a3_floating = np.array(df['IMU A3'])\n",
    "\n",
    "fig = plt.figure()\n",
    "ax = fig.add_subplot(111, projection='3d')\n",
    "ax.scatter(a1_paddling,a2_paddling,a3_paddling,c='r',marker='o')\n",
    "ax.scatter(a1_surfing,a2_surfing,a3_surfing,c='b',marker='*')\n",
    "ax.scatter(a1_floating,a2_floating,a3_floating,c='g',marker='^')\n",
    "ax.set_xlabel('IMU A1')\n",
    "ax.set_ylabel('IMU A2')\n",
    "ax.set_zlabel('IMU A3')\n",
    "fig.show()\n"
   ]
  },
  {
   "cell_type": "markdown",
   "metadata": {},
   "source": [
    "The plot above shows datapoints belonging to classes PADDLING, SURFING, and FLOATING colored as red, blue, and green respectively. As can be seen, there isn't much separation within the data."
   ]
  },
  {
   "cell_type": "markdown",
   "metadata": {},
   "source": [
    "## Acceleration to Velocity\n",
    "From kinematics, we know that acceleration is defined as follows: $$\\mathbf{a}(t) = \\frac{d}{dt}\\mathbf{v}(t) \\implies \\mathbf{v}(t) = \\int{\\mathbf{a}(t)dt}$$\n",
    "Using the trapezoidal rule, we can approximate the velocity of the fin which gives us: $$\\mathbf{v}(t_N) = \\sum_{k=1}^{N}\\frac{\\mathbf{a}(t_{k-1})+\\mathbf{a}(t_k)}{2}\\Delta t_k$$"
   ]
  },
  {
   "cell_type": "code",
   "execution_count": 93,
   "metadata": {},
   "outputs": [],
   "source": [
    "t = [float(simple_multi_dataset['UTC'][i][-6:]) for i in range(len(simple_multi_dataset['UTC']))]\n",
    "a1,a2,a3 = np.array(simple_multi_dataset['IMU A1']),np.array(simple_multi_dataset['IMU A2']),np.array(simple_multi_dataset['IMU A3']),\n",
    "a2 = a2-9.81;"
   ]
  },
  {
   "cell_type": "code",
   "execution_count": 94,
   "metadata": {},
   "outputs": [
    {
     "data": {
      "text/plain": [
       "(array([ 0.344538, -1.894959, -1.435575, ...,  1.052755,  0.746499,\n",
       "         0.57423 ]),\n",
       " array([ 1.827728,  0.277307,  0.889819, ..., -0.928576, -0.603179,\n",
       "        -0.296923]),\n",
       " array([2.775445, 0.861345, 1.607844, ..., 1.952382, 1.53128 , 1.512139]))"
      ]
     },
     "execution_count": 94,
     "metadata": {},
     "output_type": "execute_result"
    }
   ],
   "source": [
    "a1,a2,a3"
   ]
  },
  {
   "cell_type": "code",
   "execution_count": 134,
   "metadata": {},
   "outputs": [],
   "source": [
    "# Need to compute velocity at each point\n",
    "v1 = np.zeros((len(simple_multi_dataset),1))\n",
    "v2 = np.zeros((len(simple_multi_dataset),1))\n",
    "v3 = np.zeros((len(simple_multi_dataset),1))\n",
    "delta_t = 0.250; # TODO: calculate deltas using the UTC time\n",
    "\n",
    "tmp = simple_multi_dataset['simple_label']\n",
    "for i in range(len(simple_multi_dataset)):\n",
    "    # delta_t = ?   \n",
    "    if i < 1:\n",
    "        v1[i] = a1[i]*delta_t/2\n",
    "        v2[i] = a2[i]*delta_t/2\n",
    "        v3[i] = a3[i]*delta_t/2\n",
    "    else:\n",
    "        v1[i] = v1[i] + (a1[i-1] + a1[i])*delta_t/2\n",
    "        v2[i] = v2[i] + (a2[i-1] + a2[i])*delta_t/2  \n",
    "        v3[i] = v3[i] + (a3[i-1] + a3[i])*delta_t/2\n",
    "\n",
    "# Assign labels to velocity measurements\n",
    "v1_paddling = np.zeros((len(a1_paddling),1))\n",
    "v2_paddling = np.zeros((len(a2_paddling),1))\n",
    "v3_paddling = np.zeros((len(a3_paddling),1))\n",
    "\n",
    "v1_floating = np.zeros((len(a1_floating),1))\n",
    "v2_floating = np.zeros((len(a2_floating),1))\n",
    "v3_floating = np.zeros((len(a3_floating),1))\n",
    "\n",
    "v1_surfing = np.zeros((len(a1_surfing),1))\n",
    "v2_surfing = np.zeros((len(a2_surfing),1))\n",
    "v3_surfing = np.zeros((len(a3_surfing),1))\n",
    "\n",
    "paddle_idx,float_idx,surf_idx,idx = 0,0,0,0\n",
    "for label in simple_multi_dataset['simple_label']:\n",
    "    if label == 'PADDLING':        \n",
    "        v1_paddling[paddle_idx] = v1[idx]\n",
    "        v2_paddling[paddle_idx] = v2[idx]\n",
    "        v3_paddling[paddle_idx] = v3[idx]        \n",
    "        paddle_idx += 1\n",
    "    elif label == 'FLOATING':\n",
    "        v1_floating[float_idx] = v1[idx]\n",
    "        v2_floating[float_idx] = v2[idx]\n",
    "        v3_floating[float_idx] = v3[idx]\n",
    "        float_idx += 1\n",
    "    elif label == 'SURFING':\n",
    "        v1_surfing[surf_idx] = v1[idx]\n",
    "        v2_surfing[surf_idx] = v2[idx]\n",
    "        v3_surfing[surf_idx] = v3[idx]\n",
    "        surf_idx += 1\n",
    "    idx += 1"
   ]
  },
  {
   "cell_type": "code",
   "execution_count": 204,
   "metadata": {
    "scrolled": true
   },
   "outputs": [
    {
     "name": "stderr",
     "output_type": "stream",
     "text": [
      "/Users/seankamano/anaconda3/lib/python3.6/site-packages/matplotlib/figure.py:459: UserWarning: matplotlib is currently using a non-GUI backend, so cannot show the figure\n",
      "  \"matplotlib is currently using a non-GUI backend, \"\n"
     ]
    },
    {
     "data": {
      "image/png": "[encoded data removed]",
      "text/plain": [
       "<Figure size 432x288 with 1 Axes>"
      ]
     },
     "metadata": {},
     "output_type": "display_data"
    }
   ],
   "source": [
    "fig2 = plt.figure()\n",
    "ax2 = fig2.add_subplot(111, projection='3d')\n",
    "ax2.scatter(v1_floating,v2_floating,v3_floating,c='g',marker='^')\n",
    "ax2.scatter(v1_paddling,v2_paddling,v3_paddling,c='r',marker='o')\n",
    "ax2.scatter(v1_surfing,v2_surfing,v3_surfing,c='b',marker='*')\n",
    "ax2.set_xlabel('IMU V1')\n",
    "ax2.set_ylabel('IMU V2')\n",
    "ax2.set_zlabel('IMU V3')\n",
    "fig2.show()"
   ]
  },
  {
   "cell_type": "markdown",
   "metadata": {},
   "source": [
    "Nothing seems to change very much, but we'll test out what we have by including the three velocity measurements as additional features."
   ]
  },
  {
   "cell_type": "code",
   "execution_count": 161,
   "metadata": {},
   "outputs": [],
   "source": [
    "v1_df = pd.DataFrame(v1,columns=['IMU V1'])\n",
    "v2_df = pd.DataFrame(v2,columns=['IMU V2'])\n",
    "v3_df = pd.DataFrame(v3,columns=['IMU V3'])"
   ]
  },
  {
   "cell_type": "code",
   "execution_count": 205,
   "metadata": {},
   "outputs": [
    {
     "name": "stdout",
     "output_type": "stream",
     "text": [
      "X.shape: (6688, 12)\n",
      "y.shape: (6688,)\n",
      "y: ['PADDLING' 'PADDLING' 'PADDLING' ... 'SURFING' 'SURFING' 'SURFING']\n",
      "**************************************************\n",
      "X_resampled shape: (12936, 12)\n",
      "y_resampled shape: (12936,)\n",
      "X_train shape: (11642, 12)\n",
      "y_train shape: (11642,)\n",
      "X_test shape: (1294, 12)\n",
      "y_test shape: (1294,)\n"
     ]
    }
   ],
   "source": [
    "tmp = simple_multi_dataset.iloc[:, 2:-1]\n",
    "tmp['IMU V1'] = v1_df\n",
    "tmp['IMU V2'] = v2_df\n",
    "tmp['IMU V3'] = v3_df\n",
    "X = tmp.values  #selects everything until the last column listed\n",
    "\n",
    "y = simple_multi_dataset.iloc[:, -1].values   #selects the last column \n",
    "print(\"X.shape:\", X.shape)\n",
    "print(\"y.shape:\", y.shape)\n",
    "\n",
    "print(\"y:\", y)\n",
    "\n",
    "print(\"*\"*50)\n",
    "from imblearn.over_sampling import SMOTE, ADASYN\n",
    "X_resampled, y_resampled = SMOTE().fit_resample(X, y)\n",
    "print(\"X_resampled shape:\", X_resampled.shape)\n",
    "print(\"y_resampled shape:\", y_resampled.shape)\n",
    "\n",
    "from sklearn.model_selection import train_test_split\n",
    "X_train, X_test, y_train, y_test = train_test_split(X_resampled, y_resampled, test_size = 0.1, random_state = 0)\n",
    "\n",
    "print(\"X_train shape:\", X_train.shape)\n",
    "print(\"y_train shape:\", y_train.shape)\n",
    "print(\"X_test shape:\", X_test.shape)\n",
    "print(\"y_test shape:\", y_test.shape)"
   ]
  },
  {
   "cell_type": "code",
   "execution_count": 202,
   "metadata": {},
   "outputs": [
    {
     "data": {
      "text/html": [
       "<div>\n",
       "<style scoped>\n",
       "    .dataframe tbody tr th:only-of-type {\n",
       "        vertical-align: middle;\n",
       "    }\n",
       "\n",
       "    .dataframe tbody tr th {\n",
       "        vertical-align: top;\n",
       "    }\n",
       "\n",
       "    .dataframe thead th {\n",
       "        text-align: right;\n",
       "    }\n",
       "</style>\n",
       "<table border=\"1\" class=\"dataframe\">\n",
       "  <thead>\n",
       "    <tr style=\"text-align: right;\">\n",
       "      <th></th>\n",
       "      <th>IMU A1</th>\n",
       "      <th>IMU A2</th>\n",
       "      <th>IMU A3</th>\n",
       "      <th>IMU G1</th>\n",
       "      <th>IMU G2</th>\n",
       "      <th>IMU G3</th>\n",
       "      <th>IMU M1</th>\n",
       "      <th>IMU M2</th>\n",
       "      <th>IMU M3</th>\n",
       "      <th>IMU V1</th>\n",
       "      <th>IMU V2</th>\n",
       "      <th>IMU V3</th>\n",
       "    </tr>\n",
       "  </thead>\n",
       "  <tbody>\n",
       "    <tr>\n",
       "      <th>0</th>\n",
       "      <td>0.344538</td>\n",
       "      <td>11.637728</td>\n",
       "      <td>2.775445</td>\n",
       "      <td>-2.195122</td>\n",
       "      <td>-5.000000</td>\n",
       "      <td>8.414634</td>\n",
       "      <td>-37.0</td>\n",
       "      <td>-165.0</td>\n",
       "      <td>197.0</td>\n",
       "      <td>0.043067</td>\n",
       "      <td>0.228466</td>\n",
       "      <td>0.346931</td>\n",
       "    </tr>\n",
       "    <tr>\n",
       "      <th>1</th>\n",
       "      <td>-1.894959</td>\n",
       "      <td>10.087307</td>\n",
       "      <td>0.861345</td>\n",
       "      <td>16.585366</td>\n",
       "      <td>-4.146341</td>\n",
       "      <td>7.560976</td>\n",
       "      <td>-45.0</td>\n",
       "      <td>-163.0</td>\n",
       "      <td>201.0</td>\n",
       "      <td>-0.193803</td>\n",
       "      <td>0.263129</td>\n",
       "      <td>0.454599</td>\n",
       "    </tr>\n",
       "    <tr>\n",
       "      <th>2</th>\n",
       "      <td>-1.435575</td>\n",
       "      <td>10.699819</td>\n",
       "      <td>1.607844</td>\n",
       "      <td>1.829268</td>\n",
       "      <td>-6.219512</td>\n",
       "      <td>-4.390244</td>\n",
       "      <td>-42.0</td>\n",
       "      <td>-158.0</td>\n",
       "      <td>216.0</td>\n",
       "      <td>-0.416317</td>\n",
       "      <td>0.145891</td>\n",
       "      <td>0.308649</td>\n",
       "    </tr>\n",
       "    <tr>\n",
       "      <th>3</th>\n",
       "      <td>4.402430</td>\n",
       "      <td>8.288053</td>\n",
       "      <td>1.952382</td>\n",
       "      <td>-7.317073</td>\n",
       "      <td>-6.097561</td>\n",
       "      <td>3.292683</td>\n",
       "      <td>-41.0</td>\n",
       "      <td>-165.0</td>\n",
       "      <td>195.0</td>\n",
       "      <td>0.370857</td>\n",
       "      <td>-0.079016</td>\n",
       "      <td>0.445028</td>\n",
       "    </tr>\n",
       "    <tr>\n",
       "      <th>4</th>\n",
       "      <td>-1.856677</td>\n",
       "      <td>11.465459</td>\n",
       "      <td>2.392625</td>\n",
       "      <td>3.902439</td>\n",
       "      <td>-8.170732</td>\n",
       "      <td>20.121951</td>\n",
       "      <td>-46.0</td>\n",
       "      <td>-166.0</td>\n",
       "      <td>186.0</td>\n",
       "      <td>0.318219</td>\n",
       "      <td>0.016689</td>\n",
       "      <td>0.543126</td>\n",
       "    </tr>\n",
       "    <tr>\n",
       "      <th>5</th>\n",
       "      <td>14.987403</td>\n",
       "      <td>21.839881</td>\n",
       "      <td>10.259576</td>\n",
       "      <td>-32.439024</td>\n",
       "      <td>0.121951</td>\n",
       "      <td>2.195122</td>\n",
       "      <td>-47.0</td>\n",
       "      <td>-165.0</td>\n",
       "      <td>175.0</td>\n",
       "      <td>1.641341</td>\n",
       "      <td>1.710667</td>\n",
       "      <td>1.581525</td>\n",
       "    </tr>\n",
       "    <tr>\n",
       "      <th>6</th>\n",
       "      <td>-0.229692</td>\n",
       "      <td>8.307194</td>\n",
       "      <td>0.363679</td>\n",
       "      <td>57.073171</td>\n",
       "      <td>22.682927</td>\n",
       "      <td>-15.487805</td>\n",
       "      <td>-48.0</td>\n",
       "      <td>-180.0</td>\n",
       "      <td>150.0</td>\n",
       "      <td>1.844714</td>\n",
       "      <td>1.315884</td>\n",
       "      <td>1.327907</td>\n",
       "    </tr>\n",
       "    <tr>\n",
       "      <th>7</th>\n",
       "      <td>-2.450048</td>\n",
       "      <td>12.652201</td>\n",
       "      <td>-1.186742</td>\n",
       "      <td>28.414634</td>\n",
       "      <td>-17.317073</td>\n",
       "      <td>5.853659</td>\n",
       "      <td>-50.0</td>\n",
       "      <td>-160.0</td>\n",
       "      <td>210.0</td>\n",
       "      <td>-0.334967</td>\n",
       "      <td>0.167424</td>\n",
       "      <td>-0.102883</td>\n",
       "    </tr>\n",
       "    <tr>\n",
       "      <th>8</th>\n",
       "      <td>-2.048087</td>\n",
       "      <td>8.364617</td>\n",
       "      <td>3.273111</td>\n",
       "      <td>-0.365854</td>\n",
       "      <td>5.975610</td>\n",
       "      <td>10.853659</td>\n",
       "      <td>-50.0</td>\n",
       "      <td>-166.0</td>\n",
       "      <td>206.0</td>\n",
       "      <td>-0.562267</td>\n",
       "      <td>0.174602</td>\n",
       "      <td>0.260796</td>\n",
       "    </tr>\n",
       "    <tr>\n",
       "      <th>9</th>\n",
       "      <td>0.478525</td>\n",
       "      <td>10.604114</td>\n",
       "      <td>0.727358</td>\n",
       "      <td>-12.804878</td>\n",
       "      <td>-0.365854</td>\n",
       "      <td>4.756098</td>\n",
       "      <td>-56.0</td>\n",
       "      <td>-174.0</td>\n",
       "      <td>194.0</td>\n",
       "      <td>-0.196195</td>\n",
       "      <td>-0.081409</td>\n",
       "      <td>0.500059</td>\n",
       "    </tr>\n",
       "  </tbody>\n",
       "</table>\n",
       "</div>"
      ],
      "text/plain": [
       "      IMU A1     IMU A2     IMU A3     IMU G1     IMU G2     IMU G3  IMU M1  \\\n",
       "0   0.344538  11.637728   2.775445  -2.195122  -5.000000   8.414634   -37.0   \n",
       "1  -1.894959  10.087307   0.861345  16.585366  -4.146341   7.560976   -45.0   \n",
       "2  -1.435575  10.699819   1.607844   1.829268  -6.219512  -4.390244   -42.0   \n",
       "3   4.402430   8.288053   1.952382  -7.317073  -6.097561   3.292683   -41.0   \n",
       "4  -1.856677  11.465459   2.392625   3.902439  -8.170732  20.121951   -46.0   \n",
       "5  14.987403  21.839881  10.259576 -32.439024   0.121951   2.195122   -47.0   \n",
       "6  -0.229692   8.307194   0.363679  57.073171  22.682927 -15.487805   -48.0   \n",
       "7  -2.450048  12.652201  -1.186742  28.414634 -17.317073   5.853659   -50.0   \n",
       "8  -2.048087   8.364617   3.273111  -0.365854   5.975610  10.853659   -50.0   \n",
       "9   0.478525  10.604114   0.727358 -12.804878  -0.365854   4.756098   -56.0   \n",
       "\n",
       "   IMU M2  IMU M3    IMU V1    IMU V2    IMU V3  \n",
       "0  -165.0   197.0  0.043067  0.228466  0.346931  \n",
       "1  -163.0   201.0 -0.193803  0.263129  0.454599  \n",
       "2  -158.0   216.0 -0.416317  0.145891  0.308649  \n",
       "3  -165.0   195.0  0.370857 -0.079016  0.445028  \n",
       "4  -166.0   186.0  0.318219  0.016689  0.543126  \n",
       "5  -165.0   175.0  1.641341  1.710667  1.581525  \n",
       "6  -180.0   150.0  1.844714  1.315884  1.327907  \n",
       "7  -160.0   210.0 -0.334967  0.167424 -0.102883  \n",
       "8  -166.0   206.0 -0.562267  0.174602  0.260796  \n",
       "9  -174.0   194.0 -0.196195 -0.081409  0.500059  "
      ]
     },
     "execution_count": 202,
     "metadata": {},
     "output_type": "execute_result"
    }
   ],
   "source": [
    "tmp.head(10)"
   ]
  },
  {
   "cell_type": "code",
   "execution_count": 206,
   "metadata": {},
   "outputs": [],
   "source": [
    "X_train_res, y_train_res = X_train, y_train\n",
    "\n",
    "#We still need to scale our data since, at least according to sklearn, MLP's do not handle unscaled data well.\n",
    "from sklearn.preprocessing import StandardScaler\n",
    "scaler = StandardScaler()\n",
    "scaler.fit(X_train_res)\n",
    "X_train_res = scaler.transform(X_train_res)\n",
    "X_test = scaler.transform(X_test)"
   ]
  },
  {
   "cell_type": "markdown",
   "metadata": {},
   "source": [
    "# MLP test with velocity as additional features"
   ]
  },
  {
   "cell_type": "code",
   "execution_count": 207,
   "metadata": {},
   "outputs": [
    {
     "data": {
      "text/plain": [
       "MLPClassifier(activation='relu', alpha=1e-05, batch_size='auto', beta_1=0.9,\n",
       "       beta_2=0.999, early_stopping=False, epsilon=1e-08,\n",
       "       hidden_layer_sizes=(15, 15), learning_rate='constant',\n",
       "       learning_rate_init=0.001, max_iter=200, momentum=0.9,\n",
       "       n_iter_no_change=10, nesterovs_momentum=True, power_t=0.5,\n",
       "       random_state=1, shuffle=True, solver='lbfgs', tol=0.0001,\n",
       "       validation_fraction=0.1, verbose=True, warm_start=False)"
      ]
     },
     "execution_count": 207,
     "metadata": {},
     "output_type": "execute_result"
    }
   ],
   "source": [
    "from sklearn.neural_network import MLPClassifier\n",
    "# A lower regularization coeffecient (alpha) improves accuracy across the board by around 1-5%\n",
    "# The dataset appears to be heavily imbalanced, so SMOTE may need to be done or we need to choose a better dataset\n",
    "clf = MLPClassifier(solver='lbfgs', alpha=1e-5, hidden_layer_sizes=(15,15), random_state=1, verbose=True)\n",
    "clf.fit(X_train_res, y_train_res)"
   ]
  },
  {
   "cell_type": "code",
   "execution_count": 208,
   "metadata": {},
   "outputs": [
    {
     "name": "stdout",
     "output_type": "stream",
     "text": [
      "When printing the confusion matrix, the first row tells us the number of correct predictions while the second row tells us the number of incorrect predictions.\n",
      "[[293  74  22]\n",
      " [107 294  28]\n",
      " [  0  10 466]]\n"
     ]
    }
   ],
   "source": [
    "# Predicting the Test set results\n",
    "y_pred = clf.predict(X_test)\n",
    "\n",
    "from sklearn.metrics import confusion_matrix\n",
    "#cm = confusion_matrix(y_true=y_test, y_pred=y_pred, labels=[\"FLOATING\", \"PADDLING\", \"SURFING\", \"MISC\"])\n",
    "cm = confusion_matrix(y_true=y_test, y_pred=y_pred, labels=[\"FLOATING\", \"PADDLING\", \"SURFING\"])\n",
    "\n",
    "print(\"When printing the confusion matrix, the first row tells us the number of correct predictions while the second row tells us the number of incorrect predictions.\")\n",
    "print(cm)"
   ]
  },
  {
   "cell_type": "code",
   "execution_count": 209,
   "metadata": {},
   "outputs": [
    {
     "name": "stdout",
     "output_type": "stream",
     "text": [
      "[0.80617496 0.83276158 0.83361921 0.82731959 0.81013746 0.83161512\n",
      " 0.80739467 0.82373173 0.82717111 0.81685297]\n"
     ]
    }
   ],
   "source": [
    "from sklearn.model_selection import cross_val_score\n",
    "score = cross_val_score(estimator = clf, X = X_train_res, y = y_train_res, cv = 10)\n",
    "print(score)"
   ]
  },
  {
   "cell_type": "code",
   "execution_count": 210,
   "metadata": {},
   "outputs": [
    {
     "data": {
      "text/plain": [
       "{'FLOATING': 400, 'PADDLING': 378, 'SURFING': 516}"
      ]
     },
     "execution_count": 210,
     "metadata": {},
     "output_type": "execute_result"
    }
   ],
   "source": [
    "unique, counts = np.unique(y_pred, return_counts=True)\n",
    "dict(zip(unique, counts))"
   ]
  },
  {
   "cell_type": "code",
   "execution_count": 211,
   "metadata": {},
   "outputs": [
    {
     "data": {
      "text/plain": [
       "{'FLOATING': 3923, 'PADDLING': 3883, 'SURFING': 3836}"
      ]
     },
     "execution_count": 211,
     "metadata": {},
     "output_type": "execute_result"
    }
   ],
   "source": [
    "unique, counts = np.unique(y_train, return_counts=True)\n",
    "dict(zip(unique, counts))"
   ]
  },
  {
   "cell_type": "code",
   "execution_count": 212,
   "metadata": {},
   "outputs": [
    {
     "data": {
      "text/plain": [
       "{'FLOATING': 389, 'PADDLING': 429, 'SURFING': 476}"
      ]
     },
     "execution_count": 212,
     "metadata": {},
     "output_type": "execute_result"
    }
   ],
   "source": [
    "unique, counts = np.unique(y_test, return_counts=True)\n",
    "dict(zip(unique, counts))"
   ]
  },
  {
   "cell_type": "code",
   "execution_count": 213,
   "metadata": {},
   "outputs": [
    {
     "name": "stdout",
     "output_type": "stream",
     "text": [
      "Average score from cross validation:\n",
      "0.821677838400398\n"
     ]
    }
   ],
   "source": [
    "print(\"Average score from cross validation:\")\n",
    "print(sum(score)/len(score))"
   ]
  },
  {
   "cell_type": "code",
   "execution_count": 214,
   "metadata": {},
   "outputs": [
    {
     "name": "stdout",
     "output_type": "stream",
     "text": [
      "Multiclass MLP Train Accuracy ::  0.51262669644391\n",
      "Multiclass MLP Test Accuracy ::  0.8137557959814529\n"
     ]
    }
   ],
   "source": [
    "from sklearn import metrics\n",
    "print(\"Multiclass MLP Train Accuracy :: \", metrics.accuracy_score(y_train, clf.predict(X_train)))\n",
    "print(\"Multiclass MLP Test Accuracy :: \", metrics.accuracy_score(y_test, clf.predict(X_test)))"
   ]
  },
  {
   "cell_type": "markdown",
   "metadata": {},
   "source": [
    "# SVM test with velocity as additional features"
   ]
  },
  {
   "cell_type": "code",
   "execution_count": 215,
   "metadata": {},
   "outputs": [
    {
     "name": "stdout",
     "output_type": "stream",
     "text": [
      "Running SVM classifier.\n",
      "Done.\n"
     ]
    }
   ],
   "source": [
    "#Training the algorithm: \n",
    "#The fit method is called to train the algorithm on the training data, which is passed as a parameter to the fit method.\n",
    "\n",
    "print(\"Running SVM classifier.\")\n",
    "\n",
    "\n",
    "#******Note:**********\n",
    "#** Also may need to scale the signals? So they influence the classifier the same....**\n",
    "# https://stats.stackexchange.com/questions/65094/why-scaling-is-important-for-the-linear-svm-classification\n",
    "\n",
    "#There are different types of kernel for SVMs, here we are using the \"linear\" kernel to see how it performs.\n",
    "from sklearn.svm import SVC  \n",
    "svclassifier = SVC(kernel='linear')  \n",
    "svclassifier.fit(X_train_res, y_train_res) \n",
    "\n",
    "#Making predictions: use the predict method of the SVC class\n",
    "y_pred = svclassifier.predict(X_test)  \n",
    "\n",
    "\n",
    "#This takes a really long time to run!\n",
    "print(\"Done.\")"
   ]
  },
  {
   "cell_type": "code",
   "execution_count": 216,
   "metadata": {},
   "outputs": [
    {
     "name": "stdout",
     "output_type": "stream",
     "text": [
      "[[188  83 118]\n",
      " [ 60 257 112]\n",
      " [122  26 328]]\n",
      "              precision    recall  f1-score   support\n",
      "\n",
      "    FLOATING       0.51      0.48      0.50       389\n",
      "    PADDLING       0.70      0.60      0.65       429\n",
      "     SURFING       0.59      0.69      0.63       476\n",
      "\n",
      "   micro avg       0.60      0.60      0.60      1294\n",
      "   macro avg       0.60      0.59      0.59      1294\n",
      "weighted avg       0.60      0.60      0.60      1294\n",
      "\n"
     ]
    }
   ],
   "source": [
    "from sklearn.metrics import classification_report, confusion_matrix  \n",
    "print(confusion_matrix(y_test,y_pred))  \n",
    "print(classification_report(y_test,y_pred)) "
   ]
  },
  {
   "cell_type": "code",
   "execution_count": 217,
   "metadata": {},
   "outputs": [
    {
     "data": {
      "text/plain": [
       "{'FLOATING': 3923, 'PADDLING': 3883, 'SURFING': 3836}"
      ]
     },
     "execution_count": 217,
     "metadata": {},
     "output_type": "execute_result"
    }
   ],
   "source": [
    "unique, counts = np.unique(y_train, return_counts=True)\n",
    "dict(zip(unique, counts))"
   ]
  }
 ],
 "metadata": {
  "kernelspec": {
   "display_name": "Python 3",
   "language": "python",
   "name": "python3"
  },
  "language_info": {
   "codemirror_mode": {
    "name": "ipython",
    "version": 3
   },
   "file_extension": ".py",
   "mimetype": "text/x-python",
   "name": "python",
   "nbconvert_exporter": "python",
   "pygments_lexer": "ipython3",
   "version": "3.6.4"
  }
 },
 "nbformat": 4,
 "nbformat_minor": 2
}
